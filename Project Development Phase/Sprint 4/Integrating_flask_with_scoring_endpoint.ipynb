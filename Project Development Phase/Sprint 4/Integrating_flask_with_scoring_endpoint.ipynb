{
 "cells": [
  {
   "cell_type": "code",
   "execution_count": null,
   "id": "dffbf7aa",
   "metadata": {},
   "outputs": [
    {
     "name": "stdout",
     "output_type": "stream",
     "text": [
      " * Serving Flask app \"__main__\" (lazy loading)\n",
      " * Environment: production\n",
      "\u001b[31m   WARNING: This is a development server. Do not use it in a production deployment.\u001b[0m\n",
      "\u001b[2m   Use a production WSGI server instead.\u001b[0m\n",
      " * Debug mode: off\n"
     ]
    },
    {
     "name": "stderr",
     "output_type": "stream",
     "text": [
      " * Running on http://127.0.0.1:5000/ (Press CTRL+C to quit)\n"
     ]
    }
   ],
   "source": [
    "import numpy as np\n",
    "import pandas\n",
    "from flask import Flask, request, jsonify, render_template\n",
    "import pickle\n",
    "import inputScript\n",
    "import warnings\n",
    "warnings.filterwarnings('ignore')\n",
    "\n",
    "import requests\n",
    "\n",
    "app = Flask(__name__)\n",
    "model = pickle.load(open('Phishing_Website.pkl','rb'))\n",
    "\n",
    "# NOTE: you must manually set API_KEY below using information retrieved from your IBM Cloud account.\n",
    "API_KEY = \"UMHwF6FFSVOKn0dE7I-kVzx-mkBr7R6wlcaA-ZQeDlcr\"\n",
    "token_response = requests.post('https://iam.cloud.ibm.com/identity/token', data={\"apikey\":\n",
    " API_KEY, \"grant_type\": 'urn:ibm:params:oauth:grant-type:apikey'})\n",
    "mltoken = token_response.json()[\"access_token\"]\n",
    "\n",
    "header = {'Content-Type': 'application/json', 'Authorization': 'Bearer ' + mltoken}\n",
    "\n",
    "@app.route('/')\n",
    "def home():\n",
    "    return render_template('index.html')\n",
    "\n",
    "\n",
    "ans = \"\"   \n",
    "bns = \"\"   \n",
    "@app.route('/y_predict', methods=['POST','GET'])\n",
    "def y_predict():\n",
    "    url = request.form['url']\n",
    "    checkprediction = inputScript.main(url)\n",
    "    #print(checkprediction)\n",
    "    # NOTE: manually define and pass the array(s) of values to be scored in the next line\n",
    "    payload_scoring = {\"input_data\": [{\"field\": [[\"IPAddress\",\"LongURL\",\"ShortURL\",\"@Symbol\",\"//Redirecting\",\"PrefixSuffix\",\"SubDomain\",\"SSLfinal_state\",\"DomainLength\",\"Favicon\",\"Port\",\"HTTPStoken\",\"RequestURL\",\"AnchorURL\",\"LinksInScriptTags\",\"ServerFormHandler\",\"InfoEmail\",\"AbnormalURL\",\"Redirect\",\"Onmouseover\",\"RightClick\",\"PopupWindow\",\"Iframe\",\"AgeofDomain\",\"DNSRecord\",\"WebTraffic\",\"PageRank\",\"GoogleIndex\",\"LinksPointingToPage\",\"StatisticalReport\"\n",
    "]], \"values\": [[-1,-1,-1,1,-1,-1,1,1,-1,1,1,-1,1,0,0,-1,1,-1,0,1,1,1,1,1,-1,1,-1,1,-1,-1]]}]}\n",
    "\n",
    "    response_scoring = requests.post('https://us-south.ml.cloud.ibm.com/ml/v4/deployments/cf46c1fa-b25d-4424-bf6d-846da0489ee7/predictions?version=2022-11-18', json=payload_scoring,\n",
    "    headers={'Authorization': 'Bearer ' + mltoken})\n",
    "    print(\"Scoring response\")\n",
    "    predictions=response_scoring.json()\n",
    "    print(predictions)\n",
    "    pred=predictions['predictions'][0]['values'][0][0]\n",
    "    print(pred)\n",
    "    if(pred != -1):\n",
    "        output=\"The Website is the Legitimate Website ... Continue!!\"\n",
    "        return render_template('index.html',bns=output)\n",
    "    else:\n",
    "        output=\"The Website is not Legitimate... BEWARE!!\"\n",
    "        return render_template('index.html',ans=output)\n",
    "\n",
    "\n",
    "@app.route('/predict_api', methods=['POST'])\n",
    "def predict_api():\n",
    "    \n",
    "    data = request.get_json(force=True)\n",
    "    prediction = model.y_predict([np.array(list(data.values()))])\n",
    "\n",
    "    output=prediction[0]\n",
    "    return jsonify(output)        \n",
    " \n",
    "if __name__ == '__main__':\n",
    "    app.run()"
   ]
  }
 ],
 "metadata": {
  "kernelspec": {
   "display_name": "Python 3 (ipykernel)",
   "language": "python",
   "name": "python3"
  },
  "language_info": {
   "codemirror_mode": {
    "name": "ipython",
    "version": 3
   },
   "file_extension": ".py",
   "mimetype": "text/x-python",
   "name": "python",
   "nbconvert_exporter": "python",
   "pygments_lexer": "ipython3",
   "version": "3.9.12"
  }
 },
 "nbformat": 4,
 "nbformat_minor": 5
}
